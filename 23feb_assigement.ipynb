{
 "cells": [
  {
   "attachments": {},
   "cell_type": "markdown",
   "metadata": {},
   "source": [
    "Q1. Create a Pandas Series that contains the following data: 4, 8, 15, 16, 23, and 42. Then, print the series."
   ]
  },
  {
   "cell_type": "code",
   "execution_count": null,
   "metadata": {
    "vscode": {
     "languageId": "plaintext"
    }
   },
   "outputs": [],
   "source": [
    "import pandas as pd\n",
    "\n",
    "data = [4, 8, 15, 16, 23, 42]\n",
    "series = pd.Series(data)\n",
    "print(series)"
   ]
  },
  {
   "attachments": {},
   "cell_type": "markdown",
   "metadata": {},
   "source": [
    "Q2. Create a variable of list type containing 10 elements in it, and apply pandas.Series function on the\n",
    "variable print it"
   ]
  },
  {
   "cell_type": "code",
   "execution_count": null,
   "metadata": {
    "vscode": {
     "languageId": "plaintext"
    }
   },
   "outputs": [],
   "source": [
    "import pandas as pd\n",
    "\n",
    "my_list = [1, 2, 3, 4, 5, 6, 7, 8, 9, 10]\n",
    "my_series = pd.Series(my_list)\n",
    "print(my_series)"
   ]
  },
  {
   "attachments": {},
   "cell_type": "markdown",
   "metadata": {},
   "source": [
    "Q3. Create a Pandas DataFrame that contains the following data:\n",
    "Alice\n",
    "Bob\n",
    "Claire\n",
    "\n",
    "Age\n",
    "25\n",
    "30\n",
    "27\n",
    "\n",
    "Gender\n",
    "Female\n",
    "Male\n",
    "Female\n",
    "Then, print the DataFrame."
   ]
  },
  {
   "cell_type": "code",
   "execution_count": null,
   "metadata": {
    "vscode": {
     "languageId": "plaintext"
    }
   },
   "outputs": [],
   "source": [
    "import pandas as pd\n",
    "\n",
    "data = {'Name': ['Alice', 'Bob', 'Claire'],\n",
    "        'Age': [25, 30, 27],\n",
    "        'Gender': ['Female', 'Male', 'Female']}\n",
    "df = pd.DataFrame(data)\n",
    "print(df)\n"
   ]
  },
  {
   "attachments": {},
   "cell_type": "markdown",
   "metadata": {},
   "source": [
    "Q4. What is ‘DataFrame’ in pandas and how is it different from pandas.series? Explain with an example.\n",
    "In Pandas, a DataFrame is a two-dimensional labeled data structure with columns of potentially different types, similar to a spreadsheet or SQL table. It is one of the most commonly used data structures in Pandas for data manipulation, analysis, and visualization. A DataFrame is essentially a collection of Pandas Series objects, where each Series represents a column of data.\n",
    "\n",
    "A Pandas Series, on the other hand, is a one-dimensional labeled array capable of holding any data type (integers, strings, floating-point numbers, Python objects, etc.). It can be thought of as a single column of a DataFrame.\n",
    "\n",
    "Here's an example to illustrate the difference between a Pandas DataFrame and a Pandas Series:"
   ]
  },
  {
   "cell_type": "code",
   "execution_count": null,
   "metadata": {
    "vscode": {
     "languageId": "plaintext"
    }
   },
   "outputs": [],
   "source": [
    "import pandas as pd\n",
    "\n",
    "# Create a Pandas Series\n",
    "my_series = pd.Series([1, 2, 3, 4, 5])\n",
    "\n",
    "# Create a Pandas DataFrame\n",
    "my_data = {'Name': ['Alice', 'Bob', 'Claire', 'David', 'Eva'],\n",
    "           'Age': [25, 30, 27, 29, 35],\n",
    "           'Gender': ['Female', 'Male', 'Female', 'Male', 'Female']}\n",
    "my_df = pd.DataFrame(my_data)\n",
    "\n",
    "# Print the Series and the DataFrame\n",
    "print('Pandas Series:\\n', my_series)\n",
    "print('\\nPandas DataFrame:\\n', my_df)\n"
   ]
  },
  {
   "attachments": {},
   "cell_type": "markdown",
   "metadata": {},
   "source": [
    "Q5. What are some common functions you can use to manipulate data in a Pandas DataFrame? Can\n",
    "you give an example of when you might use one of these functions?\n",
    "Pandas DataFrame provides a wide range of functions for manipulating and transforming data. Some of the common functions that are used to manipulate data in a Pandas DataFrame are:\n",
    "\n",
    "head() and tail(): These functions are used to display the first and last few rows of the DataFrame, respectively. These functions are useful to quickly inspect the data and get a sense of its structure and content.\n",
    "\n",
    "describe(): This function provides a statistical summary of the DataFrame, including count, mean, standard deviation, minimum, maximum, and quartile values. This function is useful to get a quick overview of the data and to identify potential issues such as missing values or outliers.\n",
    "\n",
    "sort_values(): This function is used to sort the DataFrame by one or more columns. This function is useful to reorder the data and to identify patterns and trends in the data.\n",
    "\n",
    "groupby(): This function is used to group the DataFrame by one or more columns and apply a function to each group. This function is useful to aggregate the data and to compute summary statistics for each group.\n",
    "\n",
    "pivot_table(): This function is used to create a pivot table from the DataFrame, which is a summary table that shows the relationship between two or more columns. This function is useful to summarize and analyze complex data and to identify patterns and trends.\n",
    "\n",
    "fillna(): This function is used to fill missing values in the DataFrame with a specified value or method. This function is useful to handle missing data and to avoid errors when performing calculations or analysis.\n",
    "\n",
    "apply(): This function is used to apply a function to each element, row, or column of the DataFrame. This function is useful to transform the data and to perform custom calculations or analysis.\n",
    "\n",
    "For example, let's say we have a DataFrame that contains information about sales of different products in different regions. We might want to use the groupby() function to group the data by region and compute the total sales for each region:"
   ]
  },
  {
   "cell_type": "code",
   "execution_count": null,
   "metadata": {
    "vscode": {
     "languageId": "plaintext"
    }
   },
   "outputs": [],
   "source": [
    "import pandas as pd\n",
    "\n",
    "# Create a DataFrame with sales data\n",
    "data = {'Region': ['North', 'South', 'East', 'West', 'North', 'South', 'East', 'West'],\n",
    "        'Product': ['A', 'A', 'A', 'A', 'B', 'B', 'B', 'B'],\n",
    "        'Sales': [100, 200, 150, 50, 75, 125, 100, 50]}\n",
    "df = pd.DataFrame(data)\n",
    "\n",
    "# Group the data by region and compute the total sales for each region\n",
    "sales_by_region = df.groupby('Region')['Sales'].sum()\n",
    "\n",
    "# Print the result\n",
    "print(sales_by_region)\n"
   ]
  },
  {
   "attachments": {},
   "cell_type": "markdown",
   "metadata": {},
   "source": [
    "Q6. Which of the following is mutable in nature Series, DataFrame, Panel?\n",
    "n Pandas, both Series and DataFrame are mutable in nature, while Panel is deprecated and is no longer recommended to use.\n",
    "\n",
    "Mutable means that the objects can be modified after creation. For example, we can add, remove, or modify elements in a Series or DataFrame. Once a modification is made, the original object is changed. This is different from immutable objects like tuples, strings, and frozen sets, which cannot be changed after creation."
   ]
  },
  {
   "attachments": {},
   "cell_type": "markdown",
   "metadata": {},
   "source": [
    "Q7. Create a DataFrame using multiple Series. Explain with an example.\n",
    "In Pandas, we can create a DataFrame using multiple Series. A DataFrame is essentially a collection of Series that share the same index. We can create multiple Series, and then combine them into a DataFrame using the pd.concat() function or by passing them as a dictionary to the DataFrame constructor.\n",
    "\n",
    "Here is an example of creating a DataFrame using multiple Series:"
   ]
  },
  {
   "cell_type": "code",
   "execution_count": null,
   "metadata": {
    "vscode": {
     "languageId": "plaintext"
    }
   },
   "outputs": [],
   "source": [
    "import pandas as pd\n",
    "\n",
    "# Create three Series\n",
    "s1 = pd.Series(['Alice', 'Bob', 'Charlie'])\n",
    "s2 = pd.Series([25, 30, 27])\n",
    "s3 = pd.Series(['Female', 'Male', 'Female'])\n",
    "\n",
    "# Combine the Series into a DataFrame\n",
    "df = pd.DataFrame({'Name': s1, 'Age': s2, 'Gender': s3})\n",
    "\n",
    "# Print the DataFrame\n",
    "print(df)\n"
   ]
  }
 ],
 "metadata": {
  "language_info": {
   "name": "python"
  },
  "orig_nbformat": 4
 },
 "nbformat": 4,
 "nbformat_minor": 2
}
