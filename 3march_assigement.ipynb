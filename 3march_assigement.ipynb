{
 "cells": [
  {
   "attachments": {},
   "cell_type": "markdown",
   "metadata": {},
   "source": [
    "Que 1: Name any five plots that we can plot using the Seaborn library. Also, state the uses of each plot."
   ]
  },
  {
   "attachments": {},
   "cell_type": "markdown",
   "metadata": {},
   "source": [
    "Seaborn is a popular data visualization library built on top of Matplotlib. It provides a high-level interface for creating informative and attractive statistical graphics. Here are five common plots that we can plot using Seaborn along with their uses:\n",
    "\n",
    "Scatter plot: A scatter plot is used to show the relationship between two variables. It is commonly used to find patterns and trends in data, and to identify outliers. Seaborn provides additional functionality to customize the scatter plot, such as adding regression lines or grouping data by different categories.\n",
    "\n",
    "Line plot: A line plot is used to show how a variable changes over time. It is commonly used to visualize trends, patterns, or changes in data over time. Seaborn provides additional functionality to customize the line plot, such as adding shading or highlighting different parts of the line.\n",
    "\n",
    "Bar plot: A bar plot is used to compare categorical data. It is commonly used to visualize the distribution of data across different categories, or to compare data between different groups. Seaborn provides additional functionality to customize the bar plot, such as changing the color scheme or the orientation of the bars.\n",
    "\n",
    "Histogram: A histogram is used to show the distribution of a continuous variable. It is commonly used to visualize the shape, center, and spread of a dataset. Seaborn provides additional functionality to customize the histogram, such as changing the bin size or adding a density curve.\n",
    "\n",
    "Heatmap: A heatmap is used to show the relationship between two categorical variables. It is commonly used to visualize the frequency or intensity of data in a tabular format. Seaborn provides additional functionality to customize the heatmap, such as changing the color scheme or adding annotations.\n",
    "\n",
    "These are just a few examples of the types of plots that can be created using Seaborn. There are many other types of plots and visualization techniques available in Seaborn, and the library is constantly evolving to provide new functionality and capabilities."
   ]
  },
  {
   "attachments": {},
   "cell_type": "markdown",
   "metadata": {},
   "source": [
    "Que 2: Load the \"fmri\" dataset using the load_dataset function of seaborn. Plot a line plot using x =\n",
    "\"timepoint\" and y = \"signal\" for different events and regions.\n",
    "Note: timepoint, signal, event, and region are columns in the fmri dataset."
   ]
  },
  {
   "cell_type": "code",
   "execution_count": null,
   "metadata": {
    "vscode": {
     "languageId": "plaintext"
    }
   },
   "outputs": [],
   "source": [
    "import seaborn as sns\n",
    "\n",
    "# load the fmri dataset\n",
    "fmri_data = sns.load_dataset(\"fmri\")\n",
    "\n",
    "# plot line plot for different events and regions\n",
    "sns.lineplot(x=\"timepoint\", y=\"signal\", hue=\"event\", style=\"region\", data=fmri_data)\n"
   ]
  },
  {
   "attachments": {},
   "cell_type": "markdown",
   "metadata": {},
   "source": [
    "Que 3: Load the \"titanic\" dataset using the load_dataset function of seaborn. Plot two box plots using x =\n",
    "'pclass', y = 'age' and y = 'fare'."
   ]
  },
  {
   "cell_type": "code",
   "execution_count": null,
   "metadata": {
    "vscode": {
     "languageId": "plaintext"
    }
   },
   "outputs": [],
   "source": [
    "import seaborn as sns\n",
    "\n",
    "# load the dataset\n",
    "titanic = sns.load_dataset(\"titanic\")\n",
    "\n",
    "# plot box plot for age vs. pclass\n",
    "sns.boxplot(x=\"pclass\", y=\"age\", data=titanic)\n",
    "\n",
    "# plot box plot for fare vs. pclass\n",
    "sns.boxplot(x=\"pclass\", y=\"fare\", data=titanic)\n"
   ]
  },
  {
   "attachments": {},
   "cell_type": "markdown",
   "metadata": {},
   "source": [
    "Que 4: Use the \"diamonds\" dataset from seaborn to plot a histogram for the 'price' column. Use the hue\n",
    "parameter for the 'cut' column of the diamonds dataset."
   ]
  },
  {
   "cell_type": "code",
   "execution_count": null,
   "metadata": {
    "vscode": {
     "languageId": "plaintext"
    }
   },
   "outputs": [],
   "source": [
    "import seaborn as sns\n",
    "\n",
    "diamonds = sns.load_dataset('diamonds')\n",
    "sns.histplot(data=diamonds, x='price', hue='cut', kde=True)\n"
   ]
  },
  {
   "attachments": {},
   "cell_type": "markdown",
   "metadata": {},
   "source": [
    "Que 5: Use the \"iris\" dataset from seaborn to plot a pair plot. Use the hue parameter for the \"species\" column\n",
    "of the iris dataset."
   ]
  },
  {
   "cell_type": "code",
   "execution_count": null,
   "metadata": {
    "vscode": {
     "languageId": "plaintext"
    }
   },
   "outputs": [],
   "source": [
    "import seaborn as sns\n",
    "\n",
    "# Load iris dataset\n",
    "iris = sns.load_dataset('iris')\n",
    "\n",
    "# Create pair plot\n",
    "sns.pairplot(iris, hue='species')\n"
   ]
  },
  {
   "attachments": {},
   "cell_type": "markdown",
   "metadata": {},
   "source": [
    "Que 6: Use the \"flights\" dataset from seaborn to plot a heatmap."
   ]
  },
  {
   "cell_type": "code",
   "execution_count": null,
   "metadata": {
    "vscode": {
     "languageId": "plaintext"
    }
   },
   "outputs": [],
   "source": [
    "import seaborn as sns\n",
    "\n",
    "# Load the \"flights\" dataset\n",
    "flights_data = sns.load_dataset(\"flights\")\n",
    "\n",
    "# Reshape the data to create a pivot table\n",
    "flights_pivot = flights_data.pivot(\"month\", \"year\", \"passengers\")\n",
    "\n",
    "# Plot the heatmap\n",
    "sns.heatmap(flights_pivot, annot=True, fmt=\"d\", cmap=\"YlGnBu\")\n",
    "\n",
    "# Add title and axis labels\n",
    "plt.title(\"Number of Passengers per Month (1949-1960)\")\n",
    "plt.xlabel(\"Year\")\n",
    "plt.ylabel(\"Month\")\n",
    "\n",
    "# Show the plot\n",
    "plt.show()\n"
   ]
  }
 ],
 "metadata": {
  "language_info": {
   "name": "python"
  },
  "orig_nbformat": 4
 },
 "nbformat": 4,
 "nbformat_minor": 2
}
