{
 "cells": [
  {
   "attachments": {},
   "cell_type": "markdown",
   "metadata": {},
   "source": [
    "Q1: What is the difference between a t-test and a z-test? Provide an example scenario where you would\n",
    "use each type of test."
   ]
  },
  {
   "attachments": {},
   "cell_type": "markdown",
   "metadata": {},
   "source": [
    " The main difference between a t-test and a z-test is that the former is used for small sample sizes (usually less than 30), while the latter is used for larger sample sizes. A t-test is a statistical hypothesis test that is used to determine whether there is a significant difference between the means of two groups, while a z-test is used to test the significance of the difference between a sample mean and a population mean. For example, a t-test can be used to compare the average weight of two groups of people, while a z-test can be used to determine whether a particular drug has a significant effect on reducing blood pressure."
   ]
  },
  {
   "attachments": {},
   "cell_type": "markdown",
   "metadata": {},
   "source": [
    "Q2: Differentiate between one-tailed and two-tailed tests."
   ]
  },
  {
   "attachments": {},
   "cell_type": "markdown",
   "metadata": {},
   "source": [
    "One-tailed tests are used when the null hypothesis is directional, meaning that it specifies the direction of the effect (e.g., \"the new drug will increase performance\"). A one-tailed test is used to determine whether the observed results are significantly greater or significantly less than the expected results. A two-tailed test is used when the null hypothesis is non-directional, meaning that it does not specify the direction of the effect (e.g., \"there will be a difference in performance between groups\"). A two-tailed test is used to determine whether the observed results are significantly different from the expected results."
   ]
  },
  {
   "attachments": {},
   "cell_type": "markdown",
   "metadata": {},
   "source": [
    "Q3: Explain the concept of Type 1 and Type 2 errors in hypothesis testing. Provide an example scenario for\n",
    "each type of error."
   ]
  },
  {
   "attachments": {},
   "cell_type": "markdown",
   "metadata": {},
   "source": [
    "Type 1 error occurs when a null hypothesis is rejected when it is actually true. This error is also known as a false positive. Type 2 error occurs when a null hypothesis is accepted when it is actually false. This error is also known as a false negative. An example of a Type 1 error would be a medical test indicating that a person has a disease when they actually do not, while an example of a Type 2 error would be a medical test indicating that a person does not have a disease when they actually do."
   ]
  },
  {
   "attachments": {},
   "cell_type": "markdown",
   "metadata": {},
   "source": [
    "Q4: Explain Bayes's theorem with an example."
   ]
  },
  {
   "attachments": {},
   "cell_type": "markdown",
   "metadata": {},
   "source": [
    "Bayes's theorem is a formula that calculates the probability of an event occurring based on prior knowledge of the event's probability and new evidence. The formula is P(A|B) = P(B|A)P(A)/P(B), where P(A|B) is the probability of A given B, P(B|A) is the probability of B given A, P(A) is the prior probability of A, and P(B) is the prior probability of B. For example, if a person knows that 90% of people who have a certain disease test positive for it, and they test positive for the disease, the probability of them actually having the disease (given the test result) can be calculated using Bayes's theorem."
   ]
  },
  {
   "attachments": {},
   "cell_type": "markdown",
   "metadata": {},
   "source": [
    "Q5: What is a confidence interval? How to calculate the confidence interval, explain with an example."
   ]
  },
  {
   "attachments": {},
   "cell_type": "markdown",
   "metadata": {},
   "source": [
    " A confidence interval is a range of values that is likely to contain the true population parameter with a certain degree of confidence. It is calculated by taking the sample statistic (such as the mean or proportion), adding and subtracting the margin of error, and constructing a range around it. For example, if a sample of 100 people has a mean height of 65 inches and a margin of error of 2 inches at a 95% confidence level, the confidence interval would be 63 to 67 inches, indicating that the true population mean height is likely to fall within this range with 95% confidence.\n",
    "\n"
   ]
  },
  {
   "attachments": {},
   "cell_type": "markdown",
   "metadata": {},
   "source": [
    "Q6. Use Bayes' Theorem to calculate the probability of an event occurring given prior knowledge of the event's probability and new evidence. Provide a sample problem and solution.\n",
    "\n",
    "Bayes' Theorem is used to calculate the probability of an event occurring given prior knowledge of the event's probability and new evidence. The formula for Bayes' Theorem is:\n",
    "\n",
    "P(A|B) = P(B|A) * P(A) / P(B)\n",
    "\n",
    "where P(A|B) is the probability of event A occurring given that event B has occurred, P(B|A) is the probability of event B occurring given that event A has occurred, P(A) is the prior probability of event A, and P(B) is the probability of event B occurring.\n",
    "\n",
    "Sample problem: A company produces two types of cars, sports cars and sedans. The prior probability of a car being a sports car is 0.3, and the prior probability of a car being a sedan is 0.7. A customer comes to the showroom and selects a car randomly. The salesperson tells the customer that the car has a sunroof. The probability of a sports car having a sunroof is 0.6, and the probability of a sedan having a sunroof is 0.3. What is the probability that the car selected by the customer is a sports car given that it has a sunroof?\n",
    "\n",
    "Solution:\n",
    "\n",
    "P(Sports car|Sunroof) = P(Sunroof|Sports car) * P(Sports car) / P(Sunroof)\n",
    "P(Sports car|Sunroof) = 0.6 * 0.3 / ((0.6 * 0.3) + (0.3 * 0.7))\n",
    "P(Sports car|Sunroof) = 0.18 / 0.33\n",
    "P(Sports car|Sunroof) = 0.545\n",
    "\n",
    "Therefore, the probability that the car selected by the customer is a sports car given that it has a sunroof is 0.545 or 54.5%."
   ]
  },
  {
   "attachments": {},
   "cell_type": "markdown",
   "metadata": {},
   "source": [
    "Q7. Calculate the 95% confidence interval for a sample of data with a mean of 50 and a standard deviation of 5. Interpret the results.\n",
    "\n",
    "The formula to calculate the confidence interval is:\n",
    "\n",
    "Confidence Interval = Mean ± Z * (Standard Deviation / sqrt(n))\n",
    "\n",
    "where Z is the z-score corresponding to the desired level of confidence, n is the sample size, and sqrt represents the square root function.\n",
    "\n",
    "For a 95% confidence interval, Z is 1.96.\n",
    "\n",
    "Confidence Interval = 50 ± 1.96 * (5 / sqrt(n))\n",
    "\n",
    "Assuming a sample size of n=30, the confidence interval is:\n",
    "\n",
    "Confidence Interval = 50 ± 1.96 * (5 / sqrt(30))\n",
    "Confidence Interval = 50 ± 1.81\n",
    "\n",
    "Therefore, the 95% confidence interval for the sample mean is [48.19, 51.81]. This means that if we were to repeat the sampling process many times, we would expect the true population mean to lie within this interval in 95% of cases."
   ]
  },
  {
   "attachments": {},
   "cell_type": "markdown",
   "metadata": {},
   "source": [
    "Q8. What is the margin of error in a confidence interval? How does sample size affect the margin of error?\n",
    "Provide an example of a scenario where a larger sample size would result in a smaller margin of error."
   ]
  },
  {
   "attachments": {},
   "cell_type": "markdown",
   "metadata": {},
   "source": [
    "The margin of error in a confidence interval is the range of values within which the true population parameter is likely to lie. It is calculated by multiplying the standard error of the sample mean by a z-score or t-score that corresponds to the desired level of confidence. A larger sample size will generally result in a smaller margin of error, because larger samples provide more precise estimates of the population parameter. For example, if a survey of 100 people has a margin of error of +/- 5%, increasing the sample size to 1000 people may reduce the margin of error to +/- 1.6%."
   ]
  },
  {
   "attachments": {},
   "cell_type": "markdown",
   "metadata": {},
   "source": [
    "Q9. Calculate the z-score for a data point with a value of 75, a population mean of 70, and a population\n",
    "standard deviation of 5. Interpret the results."
   ]
  },
  {
   "attachments": {},
   "cell_type": "markdown",
   "metadata": {},
   "source": [
    "The z-score for a data point with a value of 75, a population mean of 70, and a population standard deviation of 5 is calculated as:\n",
    "\n",
    "z = (75 - 70) / 5 = 1\n",
    "\n",
    "This indicates that the data point is one standard deviation above the mean of the population."
   ]
  },
  {
   "attachments": {},
   "cell_type": "markdown",
   "metadata": {},
   "source": [
    "Q10. In a study of the effectiveness of a new weight loss drug, a sample of 50 participants lost an average\n",
    "of 6 pounds with a standard deviation of 2.5 pounds. Conduct a hypothesis test to determine if the drug is\n",
    "significantly effective at a 95% confidence level using a t-test."
   ]
  },
  {
   "attachments": {},
   "cell_type": "markdown",
   "metadata": {},
   "source": [
    " To conduct a hypothesis test to determine if the new weight loss drug is significantly effective at a 95% confidence level using a t-test, we can use the following steps:\n",
    "\n",
    "Null hypothesis: The drug is not significantly effective, and the mean weight loss is equal to or less than 0.\n",
    "Alternative hypothesis: The drug is significantly effective, and the mean weight loss is greater than 0.\n",
    "Calculate the t-value using the formula: t = (x̄ - μ) / (s / √n), where x̄ is the sample mean, μ is the population mean (assumed to be 0 under the null hypothesis), s is the sample standard deviation, and n is the sample size.\n",
    "t = (6 - 0) / (2.5 / √50) = 12\n",
    "Find the critical t-value using a t-distribution table with degrees of freedom equal to n-1 (49 for this sample). At a 95% confidence level with a one-tailed test, the critical t-value is 1.677.\n",
    "Compare the calculated t-value to the critical t-value. Since 12 > 1.677, we reject the null hypothesis and conclude that the new weight loss drug is significantly effective at a 95% confidence level."
   ]
  },
  {
   "attachments": {},
   "cell_type": "markdown",
   "metadata": {},
   "source": [
    "Q11. In a survey of 500 people, 65% reported being satisfied with their current job. Calculate the 95%\n",
    "confidence interval for the true proportion of people who are satisfied with their job."
   ]
  },
  {
   "attachments": {},
   "cell_type": "markdown",
   "metadata": {},
   "source": [
    "To calculate the 95% confidence interval for the true proportion of people who are satisfied with their job, we can use the following formula:\n",
    "\n",
    "CI = p ± z * √(p(1-p) / n), where p is the sample proportion (0.65 in this case), z is the z-score for the desired confidence level (1.96 for 95% confidence), and n is the sample size (500).\n",
    "\n",
    "CI = 0.65 ± 1.96 * √(0.65(1-0.65) / 500) = 0.61 to 0.69\n",
    "\n",
    "Therefore, we can say with 95% confidence that the true proportion of people who are satisfied with their job is between 0.61 and 0.69."
   ]
  },
  {
   "attachments": {},
   "cell_type": "markdown",
   "metadata": {},
   "source": [
    "Q12. A researcher is testing the effectiveness of two different teaching methods on student performance.\n",
    "Sample A has a mean score of 85 with a standard deviation of 6, while sample B has a mean score of 82\n",
    "with a standard deviation of 5. Conduct a hypothesis test to determine if the two teaching methods have a\n",
    "significant difference in student performance using a t-test with a significance level of 0.01."
   ]
  },
  {
   "attachments": {},
   "cell_type": "markdown",
   "metadata": {},
   "source": [
    "o conduct a hypothesis test to determine if there is a significant difference in student performance between the two teaching methods, we can use a two-sample t-test.\n",
    "\n",
    "The null hypothesis (H0) is that there is no significant difference in student performance between the two teaching methods, while the alternative hypothesis (Ha) is that there is a significant difference in student performance between the two teaching methods.\n",
    "\n",
    "We can calculate the t-test statistic as:\n",
    "\n",
    "t = (x̄A - x̄B) / √(s²A/nA + s²B/nB)\n",
    "\n",
    "Where:\n",
    "x̄A is the mean score for sample A\n",
    "x̄B is the mean score for sample B\n",
    "s²A is the variance for sample A\n",
    "s²B is the variance for sample B\n",
    "nA is the sample size for sample A\n",
    "nB is the sample size for sample B\n",
    "\n",
    "Plugging in the values we get:\n",
    "\n",
    "t = (85 - 82) / √(6²/100 + 5²/100) = 1.29\n",
    "\n",
    "Using a t-table with 198 degrees of freedom (df = nA + nB - 2), and a significance level of 0.01, the critical t-value is ±2.609. Since our calculated t-value of 1.29 is less than the critical t-value, we fail to reject the null hypothesis and conclude that there is not enough evidence to suggest a significant difference in student performance between the two teaching methods at a significance level of 0.01."
   ]
  },
  {
   "attachments": {},
   "cell_type": "markdown",
   "metadata": {},
   "source": [
    "Q13. A population has a mean of 60 and a standard deviation of 8. A sample of 50 observations has a mean\n",
    "of 65. Calculate the 90% confidence interval for the true population mean."
   ]
  },
  {
   "attachments": {},
   "cell_type": "markdown",
   "metadata": {},
   "source": [
    "To calculate the 90% confidence interval for the true population mean, we can use the formula:\n",
    "\n",
    "CI = x̄ ± z* (s/√n)\n",
    "\n",
    "Where:\n",
    "x̄ is the sample mean\n",
    "s is the sample standard deviation\n",
    "n is the sample size\n",
    "z* is the critical z-value for a 90% confidence level, which can be found using a z-table or calculator. For a two-tailed test, z* = 1.645.\n",
    "\n",
    "Plugging in the values we get:\n",
    "\n",
    "CI = 65 ± 1.645 * (8/√50) = (62.79, 67.21)\n",
    "\n",
    "Therefore, we can be 90% confident that the true population mean falls within the interval of (62.79, 67.21)."
   ]
  },
  {
   "attachments": {},
   "cell_type": "markdown",
   "metadata": {},
   "source": [
    "Q14. In a study of the effects of caffeine on reaction time, a sample of 30 participants had an average\n",
    "reaction time of 0.25 seconds with a standard deviation of 0.05 seconds. Conduct a hypothesis test to\n",
    "determine if the caffeine has a significant effect on reaction time at a 90% confidence level using a t-test."
   ]
  },
  {
   "attachments": {},
   "cell_type": "markdown",
   "metadata": {},
   "source": [
    " To conduct a hypothesis test to determine if caffeine has a significant effect on reaction time, we can use a one-sample t-test.\n",
    "\n",
    "The null hypothesis (H0) is that caffeine has no significant effect on reaction time, while the alternative hypothesis (Ha) is that caffeine has a significant effect on reaction time.\n",
    "\n",
    "We can calculate the t-test statistic as:\n",
    "\n",
    "t = (x̄ - μ) / (s/√n)\n",
    "\n",
    "Where:\n",
    "x̄ is the sample mean\n",
    "μ is the hypothesized population mean (which is 0 for the null hypothesis)\n",
    "s is the sample standard deviation\n",
    "n is the sample size\n",
    "\n",
    "Plugging in the values we get:\n",
    "\n",
    "t = (0.25 - 0) / (0.05/√30) = 6.708\n",
    "\n",
    "Using a t-table with 29 degrees of freedom (df = n - 1), and a confidence level of 90%, the critical t-value is ±1.699. Since our calculated t-value of 6.708 is greater than the critical t-value, we reject the null hypothesis and conclude that there is sufficient evidence to suggest that caffeine has a significant effect on reaction time at a 90% confidence level."
   ]
  }
 ],
 "metadata": {
  "language_info": {
   "name": "python"
  },
  "orig_nbformat": 4
 },
 "nbformat": 4,
 "nbformat_minor": 2
}
