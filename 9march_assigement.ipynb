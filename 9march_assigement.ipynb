{
 "cells": [
  {
   "attachments": {},
   "cell_type": "markdown",
   "metadata": {},
   "source": [
    "Q1: What are the Probability Mass Function (PMF) and Probability Density Function (PDF)? Explain with\n",
    "an example."
   ]
  },
  {
   "attachments": {},
   "cell_type": "markdown",
   "metadata": {},
   "source": [
    "Probability Mass Function (PMF) and Probability Density Function (PDF) are mathematical functions used in probability theory to describe the probability distribution of a random variable.\n",
    "\n",
    "A PMF is a function that gives the probability of a discrete random variable taking a particular value. For example, if we flip a fair coin, the PMF would be:\n",
    "\n",
    "P(X=0) = 0.5 (if the coin lands on tails)\n",
    "P(X=1) = 0.5 (if the coin lands on heads)\n",
    "\n",
    "A PDF, on the other hand, is used for continuous random variables and describes the probability density of a variable taking a particular value. For example, the PDF of the normal distribution with mean μ and variance σ² is given by:\n",
    "\n",
    "f(x) = (1/√(2πσ²)) * e^(-((x-μ)²)/(2σ²))"
   ]
  },
  {
   "attachments": {},
   "cell_type": "markdown",
   "metadata": {},
   "source": [
    "Q2: What is Cumulative Density Function (CDF)? Explain with an example. Why CDF is used?"
   ]
  },
  {
   "attachments": {},
   "cell_type": "markdown",
   "metadata": {},
   "source": [
    "The Cumulative Density Function (CDF) is a function that describes the probability that a random variable takes a value less than or equal to a given value.\n",
    "\n",
    "For example, if we have a normal distribution with mean μ=0 and standard deviation σ=1, the CDF would give us the probability that a randomly selected observation falls below a certain value x. The CDF of the normal distribution is given by:\n",
    "\n",
    "F(x) = Φ((x-μ)/σ)\n",
    "\n",
    "where Φ is the standard normal CDF.\n",
    "\n",
    "The CDF is used to calculate probabilities for continuous random variables, and is especially useful in hypothesis testing and confidence interval estimation"
   ]
  },
  {
   "attachments": {},
   "cell_type": "markdown",
   "metadata": {},
   "source": [
    "Q3: What are some examples of situations where the normal distribution might be used as a model?\n",
    "Explain how the parameters of the normal distribution relate to the shape of the distribution."
   ]
  },
  {
   "attachments": {},
   "cell_type": "markdown",
   "metadata": {},
   "source": [
    "The normal distribution is a commonly used statistical model for continuous data that is approximately symmetrical and bell-shaped. It is used in many applications, including quality control, financial analysis, and medical research.\n",
    "\n",
    "Some examples of situations where the normal distribution might be used include:\n",
    "\n",
    "IQ scores: IQ scores are often assumed to follow a normal distribution, with a mean of 100 and a standard deviation of 15.\n",
    "Heights of individuals: The heights of a population of individuals can often be modeled using a normal distribution.\n",
    "Errors in measurement: Errors in measurement can be assumed to follow a normal distribution, which allows for the calculation of confidence intervals and hypothesis tests.\n",
    "The mean and standard deviation parameters of the normal distribution determine the shape and location of the distribution. The mean represents the center of the distribution, while the standard deviation represents the spread of the distribution."
   ]
  },
  {
   "attachments": {},
   "cell_type": "markdown",
   "metadata": {},
   "source": [
    "Q4: Explain the importance of Normal Distribution. Give a few real-life examples of Normal\n",
    "Distribution."
   ]
  },
  {
   "attachments": {},
   "cell_type": "markdown",
   "metadata": {},
   "source": [
    "The normal distribution is important because it is a widely used statistical model that applies to many real-world situations. Some examples of where the normal distribution might be used include:\n",
    "\n",
    "Stock prices: Stock prices often follow a log-normal distribution, which is a type of normal distribution. This allows for the calculation of probabilities and risk assessments for investors.\n",
    "Test scores: Test scores, such as those on the SAT or ACT, are often assumed to follow a normal distribution. This allows for the calculation of percentiles and comparisons between different groups.\n",
    "Quality control: Quality control measures, such as defect rates or measurements of product characteristics, can be modeled using the normal distribution. This allows for the detection of unusual or out-of-control processes.\n",
    "Q5:"
   ]
  },
  {
   "attachments": {},
   "cell_type": "markdown",
   "metadata": {},
   "source": [
    "Q5: What is Bernaulli Distribution? Give an Example. What is the difference between Bernoulli\n",
    "Distribution and Binomial Distribution?"
   ]
  },
  {
   "attachments": {},
   "cell_type": "markdown",
   "metadata": {},
   "source": [
    "Bernoulli distribution is a probability distribution that models the outcomes of a single trial of a binary experiment, where the outcome is either success or failure. It is named after Swiss mathematician Jacob Bernoulli.\n",
    "\n",
    "For example, let's consider flipping a fair coin. The Bernoulli distribution can be used to model the probability of getting a head (success) or a tail (failure) on a single flip.\n",
    "\n",
    "The difference between Bernoulli distribution and Binomial distribution is that Bernoulli distribution models a single trial, while Binomial distribution models the number of successes in a fixed number of independent Bernoulli trials."
   ]
  },
  {
   "attachments": {},
   "cell_type": "markdown",
   "metadata": {},
   "source": [
    "Q6. Consider a dataset with a mean of 50 and a standard deviation of 10. If we assume that the dataset\n",
    "is normally distributed, what is the probability that a randomly selected observation will be greater\n",
    "than 60? Use the appropriate formula and show your calculations."
   ]
  },
  {
   "attachments": {},
   "cell_type": "markdown",
   "metadata": {},
   "source": [
    "Using the standard normal distribution, we can calculate the z-score as:\n",
    "\n",
    "z = (x - mu) / sigma\n",
    "z = (60 - 50) / 10\n",
    "z = 1\n",
    "\n",
    "Then, using a z-table, we can find the probability of a value being greater than 60:\n",
    "\n",
    "P(Z > 1) = 0.1587\n",
    "\n",
    "Therefore, the probability that a randomly selected observation will be greater than 60 is 0.1587 or approximately 16%."
   ]
  },
  {
   "attachments": {},
   "cell_type": "markdown",
   "metadata": {},
   "source": [
    "Q7: Explain uniform Distribution with an example."
   ]
  },
  {
   "attachments": {},
   "cell_type": "markdown",
   "metadata": {},
   "source": [
    "The uniform distribution is a continuous probability distribution where all outcomes are equally likely within a given range. For example, the time taken for a student to complete a test, assuming the student is equally likely to complete the test in any given time within the given time range, is an example of a uniform distribution. Another example would be the roll of a fair die, where each number has an equal probability of occurring."
   ]
  },
  {
   "attachments": {},
   "cell_type": "markdown",
   "metadata": {},
   "source": [
    "Q8: What is the z score? State the importance of the z score."
   ]
  },
  {
   "attachments": {},
   "cell_type": "markdown",
   "metadata": {},
   "source": [
    "The z-score is a measure of the number of standard deviations an observation is above or below the mean of a dataset. It is calculated by subtracting the mean from the observation and dividing by the standard deviation. The importance of the z-score lies in its ability to standardize different datasets to a common scale, allowing for easy comparison between them. It is also used in hypothesis testing and statistical inference."
   ]
  },
  {
   "attachments": {},
   "cell_type": "markdown",
   "metadata": {},
   "source": [
    "Q9: What is Central Limit Theorem? State the significance of the Central Limit Theorem."
   ]
  },
  {
   "attachments": {},
   "cell_type": "markdown",
   "metadata": {},
   "source": [
    "The Central Limit Theorem (CLT) is a statistical theory that states that the sampling distribution of the mean of any independent, random variables will be normal or nearly normal if the sample size is large enough, regardless of the underlying distribution. In simpler terms, it says that if you take a large enough sample size from any population, the distribution of the sample means will be approximately normal."
   ]
  },
  {
   "attachments": {},
   "cell_type": "markdown",
   "metadata": {},
   "source": [
    "Q10: State the assumptions of the Central Limit Theorem."
   ]
  },
  {
   "attachments": {},
   "cell_type": "markdown",
   "metadata": {},
   "source": [
    "The assumptions of the Central Limit Theorem are:\n",
    "\n",
    "The sample is random and independent.\n",
    "The sample size is sufficiently large (typically greater than 30).\n",
    "The population distribution is not extremely skewed or heavily tailed."
   ]
  }
 ],
 "metadata": {
  "language_info": {
   "name": "python"
  },
  "orig_nbformat": 4
 },
 "nbformat": 4,
 "nbformat_minor": 2
}
