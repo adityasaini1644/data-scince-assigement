{
 "cells": [
  {
   "attachments": {},
   "cell_type": "markdown",
   "metadata": {},
   "source": []
  },
  {
   "cell_type": "markdown",
   "metadata": {},
   "source": [
    "Q1. How can you create a Bokeh plot using Python code?"
   ]
  },
  {
   "attachments": {},
   "cell_type": "markdown",
   "metadata": {},
   "source": [
    "Bokeh is a popular data visualization library in Python that allows users to create interactive and attractive visualizations. Here are the steps to create a Bokeh plot using Python code:\n",
    "\n",
    "Install the Bokeh library: You can install the Bokeh library using pip or conda. For example, using pip:"
   ]
  },
  {
   "cell_type": "code",
   "execution_count": null,
   "metadata": {
    "vscode": {
     "languageId": "plaintext"
    }
   },
   "outputs": [],
   "source": [
    "pip install bokeh\n"
   ]
  },
  {
   "attachments": {},
   "cell_type": "markdown",
   "metadata": {},
   "source": [
    "Import the necessary modules: You will need to import the necessary modules for creating Bokeh plots."
   ]
  },
  {
   "cell_type": "code",
   "execution_count": null,
   "metadata": {
    "vscode": {
     "languageId": "plaintext"
    }
   },
   "outputs": [],
   "source": [
    "from bokeh.plotting import figure, show\n"
   ]
  },
  {
   "attachments": {},
   "cell_type": "markdown",
   "metadata": {},
   "source": [
    "Create data for the plot: You will need to create data that you want to visualize using the Bokeh plot. For example, here we are creating a simple line plot using x and y values."
   ]
  },
  {
   "cell_type": "code",
   "execution_count": null,
   "metadata": {
    "vscode": {
     "languageId": "plaintext"
    }
   },
   "outputs": [],
   "source": [
    "x = [1, 2, 3, 4, 5]\n",
    "y = [2, 4, 6, 8, 10]\n"
   ]
  },
  {
   "attachments": {},
   "cell_type": "markdown",
   "metadata": {},
   "source": [
    "Create a Bokeh figure object: You will need to create a Bokeh figure object using the figure() function. You can set various parameters such as title, x-axis label, y-axis label, etc."
   ]
  },
  {
   "cell_type": "code",
   "execution_count": null,
   "metadata": {
    "vscode": {
     "languageId": "plaintext"
    }
   },
   "outputs": [],
   "source": [
    "p = figure(title='My Plot', x_axis_label='X-axis', y_axis_label='Y-axis')\n"
   ]
  },
  {
   "attachments": {},
   "cell_type": "markdown",
   "metadata": {},
   "source": [
    "Add glyphs to the figure: You can add various types of glyphs to the Bokeh figure such as lines, circles, rectangles, etc. Here, we are adding a line glyph."
   ]
  },
  {
   "cell_type": "code",
   "execution_count": null,
   "metadata": {
    "vscode": {
     "languageId": "plaintext"
    }
   },
   "outputs": [],
   "source": [
    "p.line(x, y)\n"
   ]
  },
  {
   "attachments": {},
   "cell_type": "markdown",
   "metadata": {},
   "source": [
    "Show the plot: Finally, you can display the Bokeh plot using the show() function."
   ]
  },
  {
   "cell_type": "code",
   "execution_count": null,
   "metadata": {
    "vscode": {
     "languageId": "plaintext"
    }
   },
   "outputs": [],
   "source": [
    "show(p)\n"
   ]
  },
  {
   "attachments": {},
   "cell_type": "markdown",
   "metadata": {},
   "source": [
    "Q2. What are glyphs in Bokeh, and how can you add them to a Bokeh plot? Explain with an example."
   ]
  },
  {
   "attachments": {},
   "cell_type": "markdown",
   "metadata": {},
   "source": [
    "In Bokeh, glyphs are the visual shapes and markers that represent data points on a plot. They can be used to create various types of plots such as scatter plots, line plots, bar plots, etc.\n",
    "\n",
    "To add glyphs to a Bokeh plot, you need to create a Bokeh figure object using the figure() function and then call the appropriate glyph method on it. Here is an example:"
   ]
  },
  {
   "cell_type": "code",
   "execution_count": null,
   "metadata": {
    "vscode": {
     "languageId": "plaintext"
    }
   },
   "outputs": [],
   "source": [
    "from bokeh.plotting import figure, show\n",
    "\n",
    "# create some data\n",
    "x = [1, 2, 3, 4, 5]\n",
    "y = [2, 4, 6, 8, 10]\n",
    "\n",
    "# create a Bokeh figure object\n",
    "p = figure(title='My Plot', x_axis_label='X-axis', y_axis_label='Y-axis')\n",
    "\n",
    "# add a circle glyph to the plot\n",
    "p.circle(x, y, size=10, color='red')\n",
    "\n",
    "# show the plot\n",
    "show(p)\n"
   ]
  },
  {
   "attachments": {},
   "cell_type": "markdown",
   "metadata": {},
   "source": [
    "Q3. How can you customize the appearance of a Bokeh plot, including the axes, title, and legend?"
   ]
  },
  {
   "attachments": {},
   "cell_type": "markdown",
   "metadata": {},
   "source": [
    "Bokeh provides several options to customize the appearance of a plot, including the axes, title, and legend. Here are some of the most commonly used options:\n",
    "\n",
    "Axis customization: You can customize the appearance of the axes using the axis method on the Bokeh figure object. For example, you can change the font size of the axis labels using axis_label_text_font_size, set the axis bounds using x_range and y_range, and change the tick labels using major_label_text_font_size."
   ]
  },
  {
   "cell_type": "code",
   "execution_count": null,
   "metadata": {
    "vscode": {
     "languageId": "plaintext"
    }
   },
   "outputs": [],
   "source": [
    "from bokeh.plotting import figure, show\n",
    "\n",
    "# create some data\n",
    "x = [1, 2, 3, 4, 5]\n",
    "y = [2, 4, 6, 8, 10]\n",
    "\n",
    "# create a Bokeh figure object\n",
    "p = figure(title='My Plot', x_axis_label='X-axis', y_axis_label='Y-axis')\n",
    "\n",
    "# customize the appearance of the axes\n",
    "p.axis.axis_label_text_font_size = '14pt'\n",
    "p.axis.major_label_text_font_size = '12pt'\n",
    "p.x_range.range_padding = 0.1\n",
    "p.y_range.range_padding = 0.1\n",
    "\n",
    "# add a circle glyph to the plot\n",
    "p.circle(x, y, size=10, color='red')\n",
    "\n",
    "# show the plot\n",
    "show(p)\n",
    "from bokeh.plotting import figure, show\n",
    "\n",
    "# create some data\n",
    "x = [1, 2, 3, 4, 5]\n",
    "y = [2, 4, 6, 8, 10]\n",
    "\n",
    "# create a Bokeh figure object\n",
    "p = figure(title='My Plot', x_axis_label='X-axis', y_axis_label='Y-axis')\n",
    "\n",
    "# customize the appearance of the title\n",
    "p.title.text_font_size = '16pt'\n",
    "p.title.background_fill_color = 'lightblue'\n",
    "\n",
    "# add a circle glyph to the plot\n",
    "p.circle(x, y, size=10, color='red')\n",
    "\n",
    "# show the plot\n",
    "show(p)\n",
    "from bokeh.plotting import figure, show\n",
    "\n",
    "# create some data\n",
    "x = [1, 2, 3, 4, 5]\n",
    "y1 = [2, 4, 6, 8, 10]\n",
    "y2 = [1, 3, 5, 7, 9]\n",
    "\n",
    "# create a Bokeh figure object\n",
    "p = figure(title='My Plot', x_axis_label='X-axis', y_axis_label='Y-axis')\n",
    "\n",
    "# add circle glyphs to the plot and assign a legend label to each glyph\n",
    "p.circle(x, y1, size=10, color='red', legend_label='Series 1')\n",
    "p.circle(x, y2, size=10, color='blue', legend_label='Series 2')\n",
    "\n",
    "# customize the appearance of the legend\n",
    "p.legend.label_text_font_size = '12pt'\n",
    "p.legend.background_fill_color = 'lightgray'\n",
    "p.legend.location = 'top_left'\n",
    "\n",
    "# show the plot\n",
    "show(p)\n"
   ]
  },
  {
   "attachments": {},
   "cell_type": "markdown",
   "metadata": {},
   "source": [
    "Q4. What is a Bokeh server, and how can you use it to create interactive plots that can be updated in\n",
    "real time?"
   ]
  },
  {
   "attachments": {},
   "cell_type": "markdown",
   "metadata": {},
   "source": [
    "Bokeh server is a Python library that allows you to create interactive web applications with Bokeh plots that can be updated in real time. With Bokeh server, you can create dynamic and responsive applications that can respond to user inputs such as mouse clicks, key presses, and selection tools.\n",
    "\n",
    "To use Bokeh server, you need to create a Python script that defines a Bokeh application, which consists of a layout of one or more Bokeh plots and widgets. The script should define a curdoc object, which represents the current document and is used to add plots and widgets to the layout.\n",
    "\n",
    "Once you have defined the Bokeh application, you can start the Bokeh server by running the bokeh serve command with the name of the Python script as an argument. This will start a Bokeh server process that listens for incoming connections on a specified port.\n",
    "\n",
    "Users can interact with the Bokeh application by visiting the URL of the Bokeh server in a web browser. As users interact with the application, the Bokeh server updates the plots and widgets in real time, reflecting the changes made by the user.\n",
    "\n",
    "Here is an example of a simple Bokeh server application that uses a slider widget to update a plot:\n",
    "\n"
   ]
  },
  {
   "cell_type": "code",
   "execution_count": null,
   "metadata": {
    "vscode": {
     "languageId": "plaintext"
    }
   },
   "outputs": [],
   "source": [
    "from bokeh.plotting import figure, curdoc\n",
    "from bokeh.models import Slider\n",
    "\n",
    "# create a plot with a line glyph\n",
    "p = figure(plot_width=400, plot_height=400)\n",
    "line = p.line(x=[0, 1, 2, 3, 4], y=[0, 1, 4, 9, 16])\n",
    "\n",
    "# define a callback function to update the plot when the slider is changed\n",
    "def update(attr, old, new):\n",
    "    line.data_source.data['y'] = [i ** slider.value for i in range(5)]\n",
    "\n",
    "# create a slider widget and add a callback to it\n",
    "slider = Slider(start=0, end=4, value=1, step=1, title=\"Power\")\n",
    "slider.on_change('value', update)\n",
    "\n",
    "# add the plot and the slider widget to the current document\n",
    "curdoc().add_root(p)\n",
    "curdoc().add_root(slider)\n"
   ]
  },
  {
   "attachments": {},
   "cell_type": "markdown",
   "metadata": {},
   "source": [
    "Q5. How can you embed a Bokeh plot into a web page or dashboard using Flask or Django?"
   ]
  },
  {
   "cell_type": "code",
   "execution_count": null,
   "metadata": {
    "vscode": {
     "languageId": "plaintext"
    }
   },
   "outputs": [],
   "source": [
    "from flask import Flask, render_template\n",
    "from bokeh.embed import server_document\n",
    "\n",
    "app = Flask(__name__)\n",
    "\n",
    "@app.route('/')\n",
    "def index():\n",
    "    # generate the URL of the Bokeh server application\n",
    "    bokeh_url = server_document('http://localhost:5006/bokeh_plot')\n",
    "\n",
    "    # render the index.html template with the Bokeh plot URL\n",
    "    return render_template('index.html', bokeh_url=bokeh_url)\n",
    "\n",
    "if __name__ == '__main__':\n",
    "    app.run(debug=True)\n"
   ]
  },
  {
   "cell_type": "code",
   "execution_count": null,
   "metadata": {
    "vscode": {
     "languageId": "plaintext"
    }
   },
   "outputs": [],
   "source": [
    "<!DOCTYPE html>\n",
    "<html>\n",
    "<head>\n",
    "    <title>My Bokeh Plot</title>\n",
    "    {{ bokeh_css|safe }}\n",
    "    {{ bokeh_js|safe }}\n",
    "</head>\n",
    "<body>\n",
    "    <h1>My Bokeh Plot</h1>\n",
    "    {{ bokeh_script|safe }}\n",
    "</body>\n",
    "</html>\n"
   ]
  },
  {
   "cell_type": "code",
   "execution_count": null,
   "metadata": {
    "vscode": {
     "languageId": "plaintext"
    }
   },
   "outputs": [],
   "source": [
    "from django.shortcuts import render\n",
    "from bokeh.embed import server_document\n",
    "\n",
    "def index(request):\n",
    "    # generate the URL of the Bokeh server application\n",
    "    bokeh_url = server_document('http://localhost:5006/bokeh_plot')\n",
    "\n",
    "    # render the index.html template with the Bokeh plot URL\n",
    "    return render(request, 'index.html', {'bokeh_url': bokeh_url})\n"
   ]
  },
  {
   "cell_type": "code",
   "execution_count": null,
   "metadata": {
    "vscode": {
     "languageId": "plaintext"
    }
   },
   "outputs": [],
   "source": [
    "from django.urls import path\n",
    "from . import views\n",
    "\n",
    "urlpatterns = [\n",
    "    path('', views.index, name='index'),\n",
    "]\n"
   ]
  }
 ],
 "metadata": {
  "language_info": {
   "name": "python"
  },
  "orig_nbformat": 4
 },
 "nbformat": 4,
 "nbformat_minor": 2
}
