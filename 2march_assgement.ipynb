{
 "cells": [
  {
   "attachments": {},
   "cell_type": "markdown",
   "metadata": {},
   "source": [
    "Q1: What is Matplotlib? Why is it used? Name five plots that can be plotted using the Pyplot module of\n",
    "Matplotlib."
   ]
  },
  {
   "attachments": {},
   "cell_type": "markdown",
   "metadata": {},
   "source": [
    "Matplotlib is a plotting library for Python that provides a wide range of data visualization tools. It allows users to create various types of plots, such as line plots, scatter plots, bar plots, histogram, and many more. Matplotlib is widely used for scientific computing, data analysis, and data visualization tasks in Python.\n",
    "\n",
    "Matplotlib is used to create high-quality, publication-ready visualizations in Python. It provides a lot of flexibility and customization options, allowing users to customize every aspect of a plot, such as labels, colors, font sizes, and more.\n",
    "\n",
    "Here are five types of plots that can be plotted using the Pyplot module of Matplotlib:\n",
    "\n",
    "Line plot: Used to plot a line connecting data points in a series.\n",
    "Scatter plot: Used to plot individual data points and their relationships with each other.\n",
    "Bar plot: Used to compare data across categories using bars of different heights.\n",
    "Histogram: Used to plot the frequency distribution of a dataset.\n",
    "Pie chart: Used to plot data as a circle divided into slices representing relative proportions of each category."
   ]
  },
  {
   "attachments": {},
   "cell_type": "markdown",
   "metadata": {},
   "source": [
    "Q2: What is a scatter plot? Use the following code to generate data for x and y. Using this generated data\n",
    "plot a scatter plot.\n",
    "import numpy as np\n",
    "np.random.seed(3)\n",
    "x = 3 + np.random.normal(0, 2, 50)\n",
    "y = 3 + np.random.normal(0, 2, len(x))\n",
    "Note: Also add title, xlabel, and ylabel to the plot."
   ]
  },
  {
   "attachments": {},
   "cell_type": "markdown",
   "metadata": {},
   "source": [
    "A scatter plot is a type of plot that displays the relationship between two continuous variables. Each point in the plot represents the value of the two variables, with the horizontal axis representing one variable and the vertical axis representing the other variable.\n",
    "\n",
    "Here's the code to generate data for x and y using NumPy and plot a scatter plot using Matplotlib:"
   ]
  },
  {
   "cell_type": "code",
   "execution_count": null,
   "metadata": {
    "vscode": {
     "languageId": "plaintext"
    }
   },
   "outputs": [],
   "source": [
    "import numpy as np\n",
    "import matplotlib.pyplot as plt\n",
    "\n",
    "np.random.seed(3)\n",
    "\n",
    "x = 3 + np.random.normal(0, 2, 50)\n",
    "y = 3 + np.random.normal(0, 2, len(x))\n",
    "\n",
    "plt.scatter(x, y)\n",
    "plt.title(\"Scatter Plot of X and Y\")\n",
    "plt.xlabel(\"X\")\n",
    "plt.ylabel(\"Y\")\n",
    "plt.show()\n"
   ]
  },
  {
   "attachments": {},
   "cell_type": "markdown",
   "metadata": {},
   "source": [
    "Q3: Why is the subplot() function used? Draw four line plots using the subplot() function.\n",
    "Use the following data:\n",
    "import numpy as np\n",
    "For line 1: x = np.array([0, 1, 2, 3, 4, 5]) and y = np.array([0, 100, 200, 300, 400, 500])\n",
    "For line 2: x = np.array([0, 1, 2, 3, 4, 5]) and y = np.array([50, 20, 40, 20, 60, 70])\n",
    "For line 3: x = np.array([0, 1, 2, 3, 4, 5]) and y = np.array([10, 20, 30, 40, 50, 60])\n",
    "For line 4: x = np.array([0, 1, 2, 3, 4, 5]) and y = np.array([200, 350, 250, 550, 450, 150])\n",
    "\n",
    "The subplot() function in Matplotlib is used to create multiple plots in the same figure. It takes three arguments - the number of rows, the number of columns, and the index of the subplot. The index starts from 1 and goes from left to right and top to bottom.\n",
    "\n",
    "Here's the code to draw four line plots using the subplot() function:"
   ]
  },
  {
   "cell_type": "code",
   "execution_count": null,
   "metadata": {
    "vscode": {
     "languageId": "plaintext"
    }
   },
   "outputs": [],
   "source": [
    "import numpy as np\n",
    "import matplotlib.pyplot as plt\n",
    "\n",
    "# Data for line 1\n",
    "x1 = np.array([0, 1, 2, 3, 4, 5])\n",
    "y1 = np.array([0, 100, 200, 300, 400, 500])\n",
    "\n",
    "# Data for line 2\n",
    "x2 = np.array([0, 1, 2, 3, 4, 5])\n",
    "y2 = np.array([50, 20, 40, 20, 60, 70])\n",
    "\n",
    "# Data for line 3\n",
    "x3 = np.array([0, 1, 2, 3, 4, 5])\n",
    "y3 = np.array([10, 20, 30, 40, 50, 60])\n",
    "\n",
    "# Data for line 4\n",
    "x4 = np.array([0, 1, 2, 3, 4, 5])\n",
    "y4 = np.array([200, 350, 250, 550, 450, 150])\n",
    "\n",
    "# Create a figure with 2 rows and 2 columns\n",
    "fig, axs = plt.subplots(2, 2)\n",
    "\n",
    "# Plot line 1 in the top-left subplot\n",
    "axs[0, 0].plot(x1, y1)\n",
    "axs[0, 0].set_title(\"Line 1\")\n",
    "\n",
    "# Plot line 2 in the top-right subplot\n",
    "axs[0, 1].plot(x2, y2)\n",
    "axs[0, 1].set_title(\"Line 2\")\n",
    "\n",
    "# Plot line 3 in the bottom-left subplot\n",
    "axs[1, 0].plot(x3, y3)\n",
    "axs[1, 0].set_title(\"Line 3\")\n",
    "\n",
    "# Plot line 4 in the bottom-right subplot\n",
    "axs[1, 1].plot(x4, y4)\n",
    "axs[1, 1].set_title(\"Line 4\")\n",
    "\n",
    "# Adjust spacing between subplots\n",
    "plt.subplots_adjust(left=0.1, bottom=0.1, right=0.9, top=0.9, wspace=0.4, hspace=0.4)\n",
    "\n",
    "# Display the plot\n",
    "plt.show()\n"
   ]
  },
  {
   "attachments": {},
   "cell_type": "markdown",
   "metadata": {},
   "source": [
    "Q4: What is a bar plot? Why is it used? Using the following data plot a bar plot and a horizontal bar plot.\n",
    "import numpy as np\n",
    "company = np.array([\"Apple\", \"Microsoft\", \"Google\", \"AMD\"])\n",
    "profit = np.array([3000, 8000, 1000, 10000])\n"
   ]
  },
  {
   "attachments": {},
   "cell_type": "markdown",
   "metadata": {},
   "source": [
    "A bar plot is a plot that represents categorical data with rectangular bars with heights or lengths proportional to the values they represent. It is used to visualize and compare data between different categories.\n",
    "\n",
    "To create a bar plot and a horizontal bar plot using the given data, we can use the bar() and barh() functions provided by Matplotlib's Pyplot module. Here's the code:"
   ]
  },
  {
   "cell_type": "code",
   "execution_count": null,
   "metadata": {
    "vscode": {
     "languageId": "plaintext"
    }
   },
   "outputs": [],
   "source": [
    "import matplotlib.pyplot as plt\n",
    "import numpy as np\n",
    "\n",
    "# data\n",
    "company = np.array([\"Apple\", \"Microsoft\", \"Google\", \"AMD\"])\n",
    "profit = np.array([3000, 8000, 1000, 10000])\n",
    "\n",
    "# create bar plot\n",
    "plt.bar(company, profit)\n",
    "plt.title(\"Company profits\")\n",
    "plt.xlabel(\"Company\")\n",
    "plt.ylabel(\"Profit\")\n",
    "plt.show()\n",
    "\n",
    "# create horizontal bar plot\n",
    "plt.barh(company, profit)\n",
    "plt.title(\"Company profits\")\n",
    "plt.xlabel(\"Profit\")\n",
    "plt.ylabel(\"Company\")\n",
    "plt.show()\n"
   ]
  },
  {
   "attachments": {},
   "cell_type": "markdown",
   "metadata": {},
   "source": [
    "Q5: What is a box plot? Why is it used? Using the following data plot a box plot.\n",
    "box1 = np.random.normal(100, 10, 200)\n",
    "box2 = np.random.normal(90, 20, 200)"
   ]
  },
  {
   "attachments": {},
   "cell_type": "markdown",
   "metadata": {},
   "source": [
    "A box plot is a graphical representation of statistical data based on the five-number summary of a dataset: minimum, first quartile, median, third quartile, and maximum. It is used to show the distribution of a dataset, and to compare the distributions of different datasets.\n",
    "\n",
    "To create a box plot using the given data, we can use the boxplot() function provided by Matplotlib's Pyplot module. Here's the code:"
   ]
  },
  {
   "cell_type": "code",
   "execution_count": null,
   "metadata": {
    "vscode": {
     "languageId": "plaintext"
    }
   },
   "outputs": [],
   "source": [
    "import matplotlib.pyplot as plt\n",
    "import numpy as np\n",
    "\n",
    "# data\n",
    "box1 = np.random.normal(100, 10, 200)\n",
    "box2 = np.random.normal(90, 20, 200)\n",
    "\n",
    "# create box plot\n",
    "data = [box1, box2]\n",
    "plt.boxplot(data)\n",
    "plt.title(\"Box Plot\")\n",
    "plt.xlabel(\"Box\")\n",
    "plt.ylabel(\"Value\")\n",
    "plt.xticks([1, 2], ['Box 1', 'Box 2'])\n",
    "plt.show()\n"
   ]
  }
 ],
 "metadata": {
  "language_info": {
   "name": "python"
  },
  "orig_nbformat": 4
 },
 "nbformat": 4,
 "nbformat_minor": 2
}
