{
 "cells": [
  {
   "attachments": {},
   "cell_type": "markdown",
   "metadata": {},
   "source": [
    "Q1. What is the Probability density function?"
   ]
  },
  {
   "attachments": {},
   "cell_type": "markdown",
   "metadata": {},
   "source": [
    "The Probability Density Function (PDF) is a mathematical function used in probability theory to describe the probability distribution of a continuous random variable. It represents the relative likelihood that a random variable will take on a specific value or range of values.\n",
    "\n",
    "The PDF is defined as the derivative of the cumulative distribution function (CDF) with respect to the random variable. In other words, it is the rate at which the CDF changes with respect to the variable. The PDF can be used to calculate the probability that a random variable falls within a certain range of values by integrating the function over that range.\n",
    "\n",
    "The PDF is typically represented by a curve that shows the probability distribution of the continuous random variable. The area under the curve represents the total probability, and the height of the curve at any given point represents the probability density at that point.\n",
    "\n",
    "The PDF is an essential tool in statistical analysis and modeling, as it allows for the calculation of various statistical properties such as expected values, variances, and moments of a continuous random variable."
   ]
  },
  {
   "attachments": {},
   "cell_type": "markdown",
   "metadata": {},
   "source": [
    "Q2. What are the types of Probability distribution?"
   ]
  },
  {
   "attachments": {},
   "cell_type": "markdown",
   "metadata": {},
   "source": [
    "Normal distribution: Also known as the Gaussian distribution, it is a continuous probability distribution that is symmetrical and bell-shaped. It is commonly used in many statistical applications, as it describes the behavior of many natural phenomena.\n",
    "\n",
    "Binomial distribution: It is a discrete probability distribution that describes the number of successes in a fixed number of independent trials with two possible outcomes, such as success or failure.\n",
    "\n",
    "Poisson distribution: It is a discrete probability distribution that describes the number of occurrences of an event in a fixed interval of time or space, assuming that the events occur randomly and independently.\n",
    "\n",
    "Exponential distribution: It is a continuous probability distribution that describes the time between two successive events in a Poisson process, where events occur randomly and independently over time.\n",
    "\n",
    "Uniform distribution: It is a continuous probability distribution where all possible outcomes are equally likely. It is often used to model random variables that have a range of possible values with no preference for any specific value.\n",
    "\n",
    "Gamma distribution: It is a continuous probability distribution that describes the waiting time for a given number of events to occur in a Poisson process, where events occur randomly and independently over time.\n",
    "\n",
    "Beta distribution: It is a continuous probability distribution that describes the probability distribution of a random variable that is constrained to lie between 0 and 1. It is often used in Bayesian statistics and decision theory.\n",
    "\n",
    "These are just a few examples of the many probability distributions that are commonly used in statistics and probability theory."
   ]
  },
  {
   "attachments": {},
   "cell_type": "markdown",
   "metadata": {},
   "source": [
    "Q3. Write a Python function to calculate the probability density function of a normal distribution with\n",
    "given mean and standard deviation at a given point."
   ]
  },
  {
   "cell_type": "code",
   "execution_count": 1,
   "metadata": {},
   "outputs": [],
   "source": [
    "import math\n",
    "\n",
    "def normal_pdf(x, mean, std_dev):\n",
    "    \"\"\"\n",
    "    Calculates the probability density function of a normal distribution\n",
    "    at a given point x, given the mean and standard deviation.\n",
    "    \"\"\"\n",
    "    exponent = -((x - mean) ** 2) / (2 * std_dev ** 2)\n",
    "    denominator = std_dev * math.sqrt(2 * math.pi)\n",
    "    return (1 / denominator) * math.exp(exponent)\n"
   ]
  },
  {
   "cell_type": "code",
   "execution_count": 2,
   "metadata": {},
   "outputs": [
    {
     "name": "stdout",
     "output_type": "stream",
     "text": [
      "0.12951759566589174\n"
     ]
    }
   ],
   "source": [
    "# Calculate the PDF of a normal distribution with mean 0 and standard deviation 1 at x = 1.5\n",
    "pdf_value = normal_pdf(1.5, 0, 1)\n",
    "print(pdf_value)\n"
   ]
  },
  {
   "attachments": {},
   "cell_type": "markdown",
   "metadata": {},
   "source": [
    "Q4. What are the properties of Binomial distribution? Give two examples of events where binomial\n",
    "distribution can be applied."
   ]
  },
  {
   "attachments": {},
   "cell_type": "markdown",
   "metadata": {},
   "source": [
    "The binomial distribution is a discrete probability distribution that describes the number of successes in a fixed number of independent trials with two possible outcomes, such as success or failure. Some of the properties of the binomial distribution include:\n",
    "\n",
    "There are a fixed number of trials (n).\n",
    "\n",
    "Each trial has only two possible outcomes, typically denoted as \"success\" and \"failure\".\n",
    "\n",
    "The probability of success is constant for each trial and is denoted by p.\n",
    "\n",
    "The trials are independent, meaning that the outcome of one trial does not affect the outcome of any other trial.\n",
    "\n",
    "The random variable of interest is the number of successes in n trials, denoted by X.\n",
    "\n",
    "Two examples of events where binomial distribution can be applied are:\n",
    "\n",
    "Tossing a coin: In this case, we can define a success as getting a head and a failure as getting a tail. We can perform n tosses of the coin and calculate the probability of getting exactly k heads.\n",
    "\n",
    "Quality control: In manufacturing, a sample of products is taken and tested to see how many are defective. If a product is defective, it is considered a failure, and if it is non-defective, it is considered a success. The probability of a product being defective is p, and we can use the binomial distribution to calculate the probability of getting exactly k defective products in a sample of n products."
   ]
  },
  {
   "attachments": {},
   "cell_type": "markdown",
   "metadata": {},
   "source": [
    "Q5. Generate a random sample of size 1000 from a binomial distribution with probability of success 0.4\n",
    "and plot a histogram of the results using matplotlib."
   ]
  },
  {
   "cell_type": "code",
   "execution_count": 3,
   "metadata": {},
   "outputs": [
    {
     "data": {
      "image/png": "[encoded data removed]",
      "text/plain": [
       "<Figure size 640x480 with 1 Axes>"
      ]
     },
     "metadata": {},
     "output_type": "display_data"
    }
   ],
   "source": [
    "import numpy as np\n",
    "import matplotlib.pyplot as plt\n",
    "\n",
    "# Set the probability of success and the number of trials\n",
    "p = 0.4\n",
    "n = 1000\n",
    "\n",
    "# Generate a random sample from the binomial distribution\n",
    "sample = np.random.binomial(n, p, size=1000)\n",
    "\n",
    "# Plot a histogram of the sample using matplotlib\n",
    "plt.hist(sample, bins=20, color='skyblue', edgecolor='black')\n",
    "\n",
    "# Add labels and a title to the plot\n",
    "plt.xlabel('Number of successes')\n",
    "plt.ylabel('Frequency')\n",
    "plt.title('Histogram of a Binomial Distribution')\n",
    "\n",
    "# Show the plot\n",
    "plt.show()\n",
    "\n"
   ]
  },
  {
   "attachments": {},
   "cell_type": "markdown",
   "metadata": {},
   "source": [
    "Q6. Write a Python function to calculate the cumulative distribution function of a Poisson distribution\n",
    "with given mean at a given point."
   ]
  },
  {
   "cell_type": "code",
   "execution_count": 4,
   "metadata": {},
   "outputs": [],
   "source": [
    "import math\n",
    "\n",
    "def poisson_cdf(x, mean):\n",
    "    \"\"\"\n",
    "    Calculates the cumulative distribution function of a Poisson distribution\n",
    "    with a given mean at a given point x.\n",
    "    \"\"\"\n",
    "    cdf = 0\n",
    "    for i in range(x+1):\n",
    "        cdf += (math.exp(-mean) * (mean ** i)) / math.factorial(i)\n",
    "    return cdf\n"
   ]
  },
  {
   "cell_type": "code",
   "execution_count": 5,
   "metadata": {},
   "outputs": [
    {
     "name": "stdout",
     "output_type": "stream",
     "text": [
      "0.7575761331330659\n"
     ]
    }
   ],
   "source": [
    "# Calculate the CDF of a Poisson distribution with mean 2.5 at x = 3\n",
    "cdf_value = poisson_cdf(3, 2.5)\n",
    "print(cdf_value)\n"
   ]
  },
  {
   "attachments": {},
   "cell_type": "markdown",
   "metadata": {},
   "source": [
    "Q7. How Binomial distribution different from Poisson distribution?"
   ]
  },
  {
   "attachments": {},
   "cell_type": "markdown",
   "metadata": {},
   "source": [
    "Binomial and Poisson distributions are both discrete probability distributions, but they have some fundamental differences in their assumptions and characteristics.\n",
    "\n",
    "The main differences between the Binomial and Poisson distributions are:\n",
    "\n",
    "Number of trials: The Binomial distribution models the probability of the number of successes in a fixed number of independent trials, while the Poisson distribution models the probability of the number of events in a fixed amount of time or space.\n",
    "\n",
    "Independence: In the Binomial distribution, the trials are assumed to be independent of each other, while in the Poisson distribution, the events are assumed to occur randomly and independently of each other.\n",
    "\n",
    "Probability of success: In the Binomial distribution, the probability of success is assumed to be constant across all trials, while in the Poisson distribution, the probability of an event occurring is assumed to be proportional to the length of the time or space being observed.\n",
    "\n",
    "Parameters: The Binomial distribution has two parameters: the number of trials and the probability of success, while the Poisson distribution has only one parameter: the mean number of events.\n",
    "\n",
    "Assumptions: The Binomial distribution assumes that each trial has only two possible outcomes (success or failure), while the Poisson distribution assumes that events can occur any number of times.\n",
    "\n",
    "Shape: The Binomial distribution is typically bell-shaped, while the Poisson distribution is typically skewed to the right.\n",
    "\n",
    "To summarize, the Binomial distribution models the probability of a fixed number of successes in a fixed number of independent trials, while the Poisson distribution models the probability of a variable number of events occurring in a fixed amount of time or space."
   ]
  },
  {
   "attachments": {},
   "cell_type": "markdown",
   "metadata": {},
   "source": [
    "Q8. Generate a random sample of size 1000 from a Poisson distribution with mean 5 and calculate the\n",
    "sample mean and variance."
   ]
  },
  {
   "cell_type": "code",
   "execution_count": 6,
   "metadata": {},
   "outputs": [
    {
     "name": "stdout",
     "output_type": "stream",
     "text": [
      "Sample Mean: 5.075\n",
      "Sample Variance: 5.103375\n"
     ]
    }
   ],
   "source": [
    "import numpy as np\n",
    "\n",
    "# Generate a random sample of size 1000 from a Poisson distribution with mean 5\n",
    "sample = np.random.poisson(5, 1000)\n",
    "\n",
    "# Calculate the sample mean and variance\n",
    "sample_mean = np.mean(sample)\n",
    "sample_variance = np.var(sample)\n",
    "\n",
    "# Print the results\n",
    "print(\"Sample Mean:\", sample_mean)\n",
    "print(\"Sample Variance:\", sample_variance)\n"
   ]
  },
  {
   "attachments": {},
   "cell_type": "markdown",
   "metadata": {},
   "source": [
    "Q9. How mean and variance are related in Binomial distribution and Poisson distribution?"
   ]
  },
  {
   "attachments": {},
   "cell_type": "markdown",
   "metadata": {},
   "source": [
    "In both the Binomial and Poisson distributions, the mean and variance are related in a similar way:\n",
    "\n",
    "Binomial distribution: If X follows a Binomial distribution with parameters n and p, then the mean and variance of X are:\n",
    "\n",
    "Mean(X) = n * p\n",
    "Variance(X) = n * p * (1 - p)\n",
    "\n",
    "The variance is a function of both n and p, and it reaches its maximum when p = 0.5. As p moves away from 0.5, the variance decreases and becomes more symmetric.\n",
    "\n",
    "Poisson distribution: If X follows a Poisson distribution with parameter λ, then the mean and variance of X are:\n",
    "\n",
    "Mean(X) = λ\n",
    "Variance(X) = λ\n",
    "\n",
    "The variance is equal to the mean, and it does not depend on any other parameters. The Poisson distribution is often used as an approximation of the Binomial distribution when n is large and p is small, such that n * p = λ.\n",
    "\n",
    "In both distributions, the mean and variance are important measures of central tendency and variability, respectively. They can provide useful information about the distribution and can be used to make predictions and calculate probabilities."
   ]
  },
  {
   "attachments": {},
   "cell_type": "markdown",
   "metadata": {},
   "source": [
    "Q10. In normal distribution with respect to mean position, where does the least frequent data appear?"
   ]
  },
  {
   "attachments": {},
   "cell_type": "markdown",
   "metadata": {},
   "source": [
    "In a normal distribution, the least frequent data appears at the tails of the distribution, which are located at the extreme values of the distribution. The tails of a normal distribution extend infinitely in both directions, and they contain the values that are farthest away from the mean.\n",
    "\n",
    "The mean of a normal distribution is located at the center of the distribution, and it is the most frequent value in the distribution. As you move away from the mean towards the tails of the distribution, the frequency of the data decreases rapidly.\n",
    "\n",
    "In a standard normal distribution (i.e., a normal distribution with a mean of 0 and a standard deviation of 1), the least frequent data appears at the values that are more than 3 standard deviations away from the mean, both in the positive and negative direction. The probability of observing a value beyond 3 standard deviations from the mean is less than 0.3%, which is considered to be a rare event."
   ]
  }
 ],
 "metadata": {
  "kernelspec": {
   "display_name": "Python 3",
   "language": "python",
   "name": "python3"
  },
  "language_info": {
   "codemirror_mode": {
    "name": "ipython",
    "version": 3
   },
   "file_extension": ".py",
   "mimetype": "text/x-python",
   "name": "python",
   "nbconvert_exporter": "python",
   "pygments_lexer": "ipython3",
   "version": "3.10.10"
  },
  "orig_nbformat": 4
 },
 "nbformat": 4,
 "nbformat_minor": 2
}
